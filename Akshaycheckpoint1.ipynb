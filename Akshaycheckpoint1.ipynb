{
  "cells": [
    {
      "cell_type": "markdown",
      "metadata": {
        "id": "__f0kFr91d6L"
      },
      "source": [
        "# Checkpoint 1"
      ]
    },
    {
      "cell_type": "markdown",
      "metadata": {
        "id": "G_Ses94O1d6N"
      },
      "source": [
        "Reminder:\n",
        "\n",
        "- You are being evaluated for completion and effort in this checkpoint.\n",
        "- Avoid manual labor / hard coding as much as possible, everything we've taught you so far are meant to simplify and automate your process."
      ]
    },
    {
      "cell_type": "markdown",
      "metadata": {
        "id": "hbOML1br1d6N"
      },
      "source": [
        "We will be working with the same `states_edu.csv` that you should already be familiar with from the tutorial.\n",
        "\n",
        "We investigated Grade 8 reading score in the tutorial. For this checkpoint, you are asked to investigate another test. Here's an overview:\n",
        "\n",
        "* Choose a specific response variable to focus on\n",
        ">Grade 4 Math, Grade 4 Reading, Grade 8 Math\n",
        "* Pick or create features to use\n",
        ">Will all the features be useful in predicting test score? Are some more important than others? Should you standardize, bin, or scale the data?\n",
        "* Explore the data as it relates to that test\n",
        ">Create at least 2 visualizations (graphs), each with a caption describing the graph and what it tells us about the data\n",
        "* Create training and testing data\n",
        ">Do you want to train on all the data? Only data from the last 10 years? Only Michigan data?\n",
        "* Train a ML model to predict outcome\n",
        ">Define what you want to predict, and pick a model in sklearn to use (see sklearn <a href=\"https://scikit-learn.org/stable/modules/linear_model.html\">regressors</a>).\n",
        "\n",
        "\n",
        "Include comments throughout your code! Every cleanup and preprocessing task should be documented."
      ]
    },
    {
      "cell_type": "markdown",
      "metadata": {
        "id": "gwe_kG0P1d6O"
      },
      "source": [
        "<h2> Data Cleanup </h2>\n",
        "\n",
        "Import `numpy`, `pandas`, and `matplotlib`.\n",
        "\n",
        "(Feel free to import other libraries!)"
      ]
    },
    {
      "cell_type": "code",
      "execution_count": 1,
      "metadata": {
        "id": "CkzjgueL1d6O"
      },
      "outputs": [],
      "source": [
        "import numpy as np\n",
        "import pandas as pd\n",
        "import matplotlib.pyplot as plt"
      ]
    },
    {
      "cell_type": "markdown",
      "metadata": {
        "id": "8A4mf0yf1d6P"
      },
      "source": [
        "Load in the \"states_edu.csv\" dataset and take a look at the head of the data"
      ]
    },
    {
      "cell_type": "code",
      "execution_count": 2,
      "metadata": {
        "id": "I4fiS6M71d6P"
      },
      "outputs": [],
      "source": [
        "df = pd.read_csv('/content/states_edu.csv')"
      ]
    },
    {
      "cell_type": "markdown",
      "metadata": {
        "id": "n0vUmQy91d6P"
      },
      "source": [
        "You should always familiarize yourself with what each column in the dataframe represents. Read about the states_edu dataset here: https://www.kaggle.com/noriuk/us-education-datasets-unification-project"
      ]
    },
    {
      "cell_type": "markdown",
      "metadata": {
        "id": "YjNXNx5O1d6Q"
      },
      "source": [
        "Use this space to rename columns, deal with missing data, etc. _(optional)_"
      ]
    },
    {
      "cell_type": "code",
      "execution_count": null,
      "metadata": {
        "id": "loTXEPjt1d6Q"
      },
      "outputs": [],
      "source": []
    },
    {
      "cell_type": "markdown",
      "metadata": {
        "id": "8PEBdmdK1d6Q"
      },
      "source": [
        "<h2>Exploratory Data Analysis (EDA) </h2>"
      ]
    },
    {
      "cell_type": "markdown",
      "metadata": {
        "id": "kPZPUlg51d6Q"
      },
      "source": [
        "Chosen one of Grade 4 Reading, Grade 4 Math, or Grade 8 Math to focus on: Grade 4 Math"
      ]
    },
    {
      "cell_type": "markdown",
      "metadata": {
        "id": "a9q8-qIG1d6Q"
      },
      "source": [
        "How many years of data are logged in our dataset?"
      ]
    },
    {
      "cell_type": "code",
      "execution_count": null,
      "metadata": {
        "id": "41SMwxVt1d6R"
      },
      "outputs": [],
      "source": [
        "33"
      ]
    },
    {
      "cell_type": "markdown",
      "metadata": {
        "id": "GWVGEsrZ1d6R"
      },
      "source": [
        "Let's compare Michigan to Ohio. Which state has the higher average across all years in the test you chose?"
      ]
    },
    {
      "cell_type": "code",
      "execution_count": 3,
      "metadata": {
        "colab": {
          "base_uri": "https://localhost:8080/"
        },
        "id": "c_EXHIZW1d6R",
        "outputId": "8c970da7-4f67-4176-cec6-1c9bd8a5fc1c"
      },
      "outputs": [
        {
          "output_type": "stream",
          "name": "stdout",
          "text": [
            "Ohio has the higher average Grade 4 Math score across all years.\n"
          ]
        }
      ],
      "source": [
        "michigan_avg = df[df['STATE'] == 'MICHIGAN']['AVG_MATH_4_SCORE'].mean()\n",
        "ohio_avg = df[df['STATE'] == 'OHIO']['AVG_MATH_4_SCORE'].mean()\n",
        "if michigan_avg > ohio_avg:\n",
        "  print(\"Michigan has the higher average Grade 4 Math score across all years.\")\n",
        "elif ohio_avg > michigan_avg:\n",
        "  print(\"Ohio has the higher average Grade 4 Math score across all years.\")\n",
        "else:\n",
        "  print(\"Michigan and Ohio have the same average Grade 4 Math score across all years.\")"
      ]
    },
    {
      "cell_type": "markdown",
      "metadata": {
        "id": "dFAUSLX_1d6R"
      },
      "source": [
        "Find the average for your chosen test across all states in 2019"
      ]
    },
    {
      "cell_type": "code",
      "execution_count": 6,
      "metadata": {
        "colab": {
          "base_uri": "https://localhost:8080/"
        },
        "id": "G6r4nlOH1d6R",
        "outputId": "843ffa4d-82a9-4e15-b482-e95195ff82bb"
      },
      "outputs": [
        {
          "output_type": "stream",
          "name": "stdout",
          "text": [
            "The average Grade 4 Math score across all states in 2019 is: 239.9433962264151\n"
          ]
        }
      ],
      "source": [
        "avg_2019 = df[df['YEAR'] == 2019]['AVG_MATH_4_SCORE'].mean()\n",
        "print(f\"The average Grade 4 Math score across all states in 2019 is: {avg_2019}\")\n"
      ]
    },
    {
      "cell_type": "markdown",
      "metadata": {
        "id": "rJW5wnn51d6R"
      },
      "source": [
        "For each state, find a maximum value for your chosen test score"
      ]
    },
    {
      "cell_type": "code",
      "execution_count": 7,
      "metadata": {
        "colab": {
          "base_uri": "https://localhost:8080/"
        },
        "id": "R2Z1Zowo1d6R",
        "outputId": "48a2af6d-de3d-4203-d7de-b3e2fe442815"
      },
      "outputs": [
        {
          "output_type": "stream",
          "name": "stdout",
          "text": [
            "STATE\n",
            "ALABAMA                 233.0\n",
            "ALASKA                  237.0\n",
            "ARIZONA                 240.0\n",
            "ARKANSAS                240.0\n",
            "CALIFORNIA              235.0\n",
            "COLORADO                247.0\n",
            "CONNECTICUT             245.0\n",
            "DELAWARE                243.0\n",
            "DISTRICT_OF_COLUMBIA    235.0\n",
            "DODEA                   250.0\n",
            "FLORIDA                 246.0\n",
            "GEORGIA                 240.0\n",
            "HAWAII                  243.0\n",
            "IDAHO                   242.0\n",
            "ILLINOIS                239.0\n",
            "INDIANA                 249.0\n",
            "IOWA                    246.0\n",
            "KANSAS                  248.0\n",
            "KENTUCKY                242.0\n",
            "LOUISIANA               234.0\n",
            "MAINE                   246.0\n",
            "MARYLAND                247.0\n",
            "MASSACHUSETTS           253.0\n",
            "MICHIGAN                238.0\n",
            "MINNESOTA               253.0\n",
            "MISSISSIPPI             241.0\n",
            "MISSOURI                241.0\n",
            "MONTANA                 244.0\n",
            "NATIONAL                242.0\n",
            "NEBRASKA                246.0\n",
            "NEVADA                  237.0\n",
            "NEW_HAMPSHIRE           253.0\n",
            "NEW_JERSEY              249.0\n",
            "NEW_MEXICO              233.0\n",
            "NEW_YORK                243.0\n",
            "NORTH_CAROLINA          245.0\n",
            "NORTH_DAKOTA            246.0\n",
            "OHIO                    246.0\n",
            "OKLAHOMA                240.0\n",
            "OREGON                  240.0\n",
            "PENNSYLVANIA            246.0\n",
            "RHODE_ISLAND            242.0\n",
            "SOUTH_CAROLINA          238.0\n",
            "SOUTH_DAKOTA            242.0\n",
            "TENNESSEE               241.0\n",
            "TEXAS                   244.0\n",
            "UTAH                    244.0\n",
            "VERMONT                 248.0\n",
            "VIRGINIA                248.0\n",
            "WASHINGTON              246.0\n",
            "WEST_VIRGINIA           237.0\n",
            "WISCONSIN               245.0\n",
            "WYOMING                 248.0\n",
            "Name: AVG_MATH_4_SCORE, dtype: float64\n"
          ]
        }
      ],
      "source": [
        "max_scores_by_state = df.groupby('STATE')['AVG_MATH_4_SCORE'].max()\n",
        "print(max_scores_by_state)"
      ]
    },
    {
      "cell_type": "markdown",
      "metadata": {
        "id": "LHeX2mYd1d6S"
      },
      "source": [
        "*Refer to the `Grouping and Aggregating` section in Tutorial 0 if you are stuck."
      ]
    },
    {
      "cell_type": "markdown",
      "metadata": {
        "id": "KxWXaHGA1d6S"
      },
      "source": [
        "<h2> Feature Engineering </h2>\n",
        "\n",
        "After exploring the data, you can choose to modify features that you would use to predict the performance of the students on your chosen response variable.\n",
        "\n",
        "You can also create your own features. For example, perhaps you figured that maybe a state's expenditure per student may affect their overall academic performance so you create a expenditure_per_student feature.\n",
        "\n",
        "Use this space to modify or create features."
      ]
    },
    {
      "cell_type": "code",
      "execution_count": 8,
      "metadata": {
        "id": "HHkUqePl1d6S"
      },
      "outputs": [],
      "source": [
        "df['state_revenue_per_student'] = df['STATE_REVENUE'] / df['GRADES_4_G']\n"
      ]
    },
    {
      "cell_type": "markdown",
      "metadata": {
        "id": "n146R82y1d6S"
      },
      "source": [
        "Feature engineering justification: State revenue varies greatly and could relate to different student test outcomes as the quality of public schools could vary greatly"
      ]
    },
    {
      "cell_type": "markdown",
      "metadata": {
        "id": "F1nyxCiZ1d6S"
      },
      "source": [
        "<h2>Visualization</h2>\n",
        "\n",
        "Investigate the relationship between your chosen response variable and at least two predictors using visualizations. Write down your observations.\n",
        "\n",
        "**Visualization 1**"
      ]
    },
    {
      "cell_type": "code",
      "execution_count": 10,
      "metadata": {
        "colab": {
          "base_uri": "https://localhost:8080/",
          "height": 579
        },
        "id": "jNs5Bspw1d6S",
        "outputId": "6528b606-5060-42de-97ca-57cb631be1ac"
      },
      "outputs": [
        {
          "output_type": "display_data",
          "data": {
            "text/plain": [
              "<Figure size 1000x600 with 2 Axes>"
            ],
            "image/png": "[encoded data removed]"
          },
          "metadata": {}
        }
      ],
      "source": [
        "plt.figure(figsize=(10, 6))\n",
        "plt.scatter(df['state_revenue_per_student'], df['FEDERAL_REVENUE'])\n",
        "plt.xlabel('State Revenue per Student')\n",
        "plt.ylabel('Total Expenditure')\n",
        "plt.title('Relationship between State Revenue per Student and Federal Revenue')\n",
        "plt.colorbar(label='Federal Revenue')\n",
        "plt.show()\n"
      ]
    },
    {
      "cell_type": "markdown",
      "metadata": {
        "id": "bSI-2QSO1d6S"
      },
      "source": [
        "There is a lot of variance in state revenue per student but its not due to federal revenue per state"
      ]
    },
    {
      "cell_type": "markdown",
      "metadata": {
        "id": "utaQdbyZ1d6T"
      },
      "source": [
        "**Visualization 2**"
      ]
    },
    {
      "cell_type": "code",
      "execution_count": 11,
      "metadata": {
        "colab": {
          "base_uri": "https://localhost:8080/",
          "height": 564
        },
        "id": "9JZBajhh1d6T",
        "outputId": "ebe0f723-dec8-4030-fbf3-0aa43b96e0d6"
      },
      "outputs": [
        {
          "output_type": "display_data",
          "data": {
            "text/plain": [
              "<Figure size 1000x600 with 1 Axes>"
            ],
            "image/png": "[encoded data removed]"
          },
          "metadata": {}
        }
      ],
      "source": [
        "plt.figure(figsize=(10, 6))\n",
        "plt.hist(df['state_revenue_per_student'], bins=20, alpha=0.7, color='blue', label='State Revenue per Student')\n",
        "plt.hist(df['LOCAL_REVENUE'], bins=20, alpha=0.7, color='red', label='Local Revenue')\n",
        "plt.xlabel('Revenue')\n",
        "plt.ylabel('Frequency')\n",
        "plt.title('Distribution of State Revenue per Student and Local Revenue')\n",
        "plt.legend()\n",
        "plt.show()\n"
      ]
    },
    {
      "cell_type": "markdown",
      "metadata": {
        "id": "MXx3ymUZ1d6T"
      },
      "source": [
        "This visualization shows the distribution of state revenue per student and local revenue. It appears that local revenue is more concentrated around a lower value while state revenue per student is more spread out."
      ]
    },
    {
      "cell_type": "markdown",
      "metadata": {
        "id": "jU95X6aJ1d6T"
      },
      "source": [
        "<h2> Data Creation </h2>\n",
        "\n",
        "_Use this space to create train/test data_"
      ]
    },
    {
      "cell_type": "code",
      "execution_count": 12,
      "metadata": {
        "id": "NSeTr6xl1d6T"
      },
      "outputs": [],
      "source": [
        "from sklearn.model_selection import train_test_split"
      ]
    },
    {
      "cell_type": "code",
      "execution_count": null,
      "metadata": {
        "id": "JyJMAiWc1d6U"
      },
      "outputs": [],
      "source": [
        "# X =\n",
        "# y ="
      ]
    },
    {
      "cell_type": "code",
      "execution_count": null,
      "metadata": {
        "id": "sWuiVNHW1d6U"
      },
      "outputs": [],
      "source": [
        "# X_train, X_test, y_train, y_test = train_test_split(\n",
        "#      X, y, test_size=, random_state=42)"
      ]
    },
    {
      "cell_type": "markdown",
      "metadata": {
        "id": "omkiF9Xd1d6V"
      },
      "source": [
        "<h2> Prediction </h2>"
      ]
    },
    {
      "cell_type": "markdown",
      "metadata": {
        "id": "v3CJFldf1d6V"
      },
      "source": [
        "ML Models [Resource](https://medium.com/@vijaya.beeravalli/comparison-of-machine-learning-classification-models-for-credit-card-default-data-c3cf805c9a5a)"
      ]
    },
    {
      "cell_type": "code",
      "execution_count": null,
      "metadata": {
        "id": "E9QugQX11d6V"
      },
      "outputs": [],
      "source": [
        "# import your sklearn class here"
      ]
    },
    {
      "cell_type": "code",
      "execution_count": null,
      "metadata": {
        "id": "Mt3EFQ-01d6V"
      },
      "outputs": [],
      "source": [
        "# create your model here\n",
        "# model ="
      ]
    },
    {
      "cell_type": "code",
      "execution_count": null,
      "metadata": {
        "id": "iqz087xj1d6V"
      },
      "outputs": [],
      "source": [
        "model.fit(X_train, y_train)"
      ]
    },
    {
      "cell_type": "code",
      "execution_count": null,
      "metadata": {
        "id": "yCTs7nnw1d6b"
      },
      "outputs": [],
      "source": [
        "y_pred = model.predict(X_test)"
      ]
    },
    {
      "cell_type": "markdown",
      "metadata": {
        "id": "iA0pWh_J1d6c"
      },
      "source": [
        "## Evaluation"
      ]
    },
    {
      "cell_type": "markdown",
      "metadata": {
        "id": "z8_EdW7s1d6c"
      },
      "source": [
        "Choose some metrics to evaluate the performance of your model, some of them are mentioned in the tutorial."
      ]
    },
    {
      "cell_type": "code",
      "execution_count": null,
      "metadata": {
        "id": "TP7yofeL1d6c"
      },
      "outputs": [],
      "source": []
    },
    {
      "cell_type": "markdown",
      "metadata": {
        "id": "QV5KELpL1d6c"
      },
      "source": [
        "We have copied over the graphs that visualize the model's performance on the training and testing set.\n",
        "\n",
        "Change `col_name` and modify the call to `plt.ylabel()` to isolate how a single predictor affects the model."
      ]
    },
    {
      "cell_type": "code",
      "execution_count": null,
      "metadata": {
        "id": "kLNPAQEa1d6c"
      },
      "outputs": [],
      "source": [
        "# col_name = 'COLUMN NAME OF ONE PREDICTOR'\n",
        "\n",
        "# f = plt.figure(figsize=(12,6))\n",
        "# plt.scatter(X_train[col_name], y_train, color = \"red\")\n",
        "# plt.scatter(X_train[col_name], model.predict(X_train), color = \"green\")\n",
        "\n",
        "# plt.legend(['True Training','Predicted Training'])\n",
        "# plt.xlabel(col_name)\n",
        "# plt.ylabel('NAME OF THE PREDICTOR')\n",
        "# plt.title(\"Model Behavior On Training Set\")"
      ]
    },
    {
      "cell_type": "code",
      "execution_count": null,
      "metadata": {
        "id": "NGFqua121d6c"
      },
      "outputs": [],
      "source": [
        "# col_name = 'COLUMN NAME OF ONE PREDICTOR\"\n",
        "\n",
        "# f = plt.figure(figsize=(12,6))\n",
        "# plt.scatter(X_test[col_name], y_test, color = \"blue\")\n",
        "# plt.scatter(X_test[col_name], model.predict(X_test), color = \"black\")\n",
        "\n",
        "# plt.legend(['True testing','Predicted testing'])\n",
        "# plt.xlabel(col_name)\n",
        "# plt.ylabel('NAME OF THE PREDICTOR')\n",
        "# plt.title(\"Model Behavior on Testing Set\")"
      ]
    }
  ],
  "metadata": {
    "kernelspec": {
      "display_name": "Python 3.9.0 64-bit",
      "language": "python",
      "name": "python3"
    },
    "language_info": {
      "codemirror_mode": {
        "name": "ipython",
        "version": 3
      },
      "file_extension": ".py",
      "mimetype": "text/x-python",
      "name": "python",
      "nbconvert_exporter": "python",
      "pygments_lexer": "ipython3",
      "version": "3.9.0"
    },
    "vscode": {
      "interpreter": {
        "hash": "6cf8df3ff69f85f626faf55c10df6fe2cb9d1236b4dc73844ee4dc01369c2c99"
      }
    },
    "colab": {
      "provenance": []
    }
  },
  "nbformat": 4,
  "nbformat_minor": 0
}